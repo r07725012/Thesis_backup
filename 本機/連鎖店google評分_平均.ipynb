{
 "cells": [
  {
   "cell_type": "code",
   "execution_count": 53,
   "metadata": {},
   "outputs": [
    {
     "name": "stdout",
     "output_type": "stream",
     "text": [
      "3.8 16 4.5 8 4.1 25\n",
      "['3.8', '16', '4.5', '8', '4.1', '25']\n",
      "score: 3.8\n",
      "comment: 16\n",
      "score: 4.5\n",
      "comment: 8\n",
      "score: 4.1\n",
      "comment: 25\n",
      "評論總數: 49.0\n",
      "平均分數: 4.0673469387755095\n"
     ]
    }
   ],
   "source": [
    "numberString = input() # format:評分 評論數 評分 評論數... \n",
    "numberList = numberString.split()\n",
    "print(numberList)\n",
    "\n",
    "comment_cnt = 0\n",
    "weight_score = 0\n",
    "flag = 'score'\n",
    "for i in numberList:\n",
    "    if flag == 'score':\n",
    "        print('score:',i)\n",
    "        flag = 'comment'\n",
    "        score = float(i)\n",
    "        \n",
    "    else:\n",
    "        print('comment:',i)\n",
    "        flag = 'score'\n",
    "        comment = float(i)\n",
    "        comment_cnt += comment\n",
    "        \n",
    "        weight_score += (score*comment)\n",
    "\n",
    "print('評論總數:',comment_cnt)\n",
    "# print('平均評論數')\n",
    "print('平均分數:',weight_score/comment_cnt)"
   ]
  },
  {
   "cell_type": "code",
   "execution_count": 55,
   "metadata": {},
   "outputs": [
    {
     "name": "stdout",
     "output_type": "stream",
     "text": [
      "10\n",
      "8\n",
      "3\n",
      "1\n",
      "4\n",
      "6\n",
      "4\n",
      "6\n",
      "8\n",
      "1\n"
     ]
    }
   ],
   "source": [
    "with open('rating score.txt', 'r', newline=None) as f:\n",
    "    score_list = []\n",
    "    for line in f:\n",
    "        score_list.append(line.rstrip('\\n'))\n",
    "\n",
    "sorted_score_list = sorted(score_list, reverse = True)\n",
    "for score in score_list:\n",
    "    print(sorted_score_list.index(score)+1)\n"
   ]
  },
  {
   "cell_type": "code",
   "execution_count": null,
   "metadata": {},
   "outputs": [],
   "source": [
    "7, 1, 8, 3, 4, 6, 5, 2, 9"
   ]
  },
  {
   "cell_type": "code",
   "execution_count": 27,
   "metadata": {},
   "outputs": [
    {
     "data": {
      "text/plain": [
       "['4.5',\n",
       " '4.312',\n",
       " '4.31',\n",
       " '4.235',\n",
       " '4.214',\n",
       " '4.2',\n",
       " '4.2',\n",
       " '4.123',\n",
       " '4.1',\n",
       " '3.813']"
      ]
     },
     "execution_count": 27,
     "metadata": {},
     "output_type": "execute_result"
    }
   ],
   "source": [
    "sorted_score_list"
   ]
  },
  {
   "cell_type": "code",
   "execution_count": 25,
   "metadata": {},
   "outputs": [
    {
     "data": {
      "text/plain": [
       "['3.813',\n",
       " '4.1',\n",
       " '4.123',\n",
       " '4.2',\n",
       " '4.2',\n",
       " '4.214',\n",
       " '4.235',\n",
       " '4.31',\n",
       " '4.312',\n",
       " '4.5']"
      ]
     },
     "execution_count": 25,
     "metadata": {},
     "output_type": "execute_result"
    }
   ],
   "source": [
    "sorted_score_list"
   ]
  }
 ],
 "metadata": {
  "kernelspec": {
   "display_name": "Python 3",
   "language": "python",
   "name": "python3"
  },
  "language_info": {
   "codemirror_mode": {
    "name": "ipython",
    "version": 3
   },
   "file_extension": ".py",
   "mimetype": "text/x-python",
   "name": "python",
   "nbconvert_exporter": "python",
   "pygments_lexer": "ipython3",
   "version": "3.7.1"
  }
 },
 "nbformat": 4,
 "nbformat_minor": 2
}
